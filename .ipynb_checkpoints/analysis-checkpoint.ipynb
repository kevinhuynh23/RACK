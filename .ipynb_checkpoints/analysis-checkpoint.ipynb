{
 "cells": [
  {
   "cell_type": "code",
   "execution_count": 2,
   "metadata": {},
   "outputs": [
    {
     "ename": "ModuleNotFoundError",
     "evalue": "No module named 'geopandas'",
     "output_type": "error",
     "traceback": [
      "\u001b[1;31m---------------------------------------------------------------------------\u001b[0m",
      "\u001b[1;31mModuleNotFoundError\u001b[0m                       Traceback (most recent call last)",
      "\u001b[1;32m<ipython-input-2-b36b0f75931d>\u001b[0m in \u001b[0;36m<module>\u001b[1;34m\u001b[0m\n\u001b[0;32m      2\u001b[0m \u001b[1;32mimport\u001b[0m \u001b[0mnumpy\u001b[0m \u001b[1;32mas\u001b[0m \u001b[0mnp\u001b[0m\u001b[1;33m\u001b[0m\u001b[1;33m\u001b[0m\u001b[0m\n\u001b[0;32m      3\u001b[0m \u001b[1;32mimport\u001b[0m \u001b[0mmatplotlib\u001b[0m\u001b[1;33m.\u001b[0m\u001b[0mpyplot\u001b[0m \u001b[1;32mas\u001b[0m \u001b[0mplt\u001b[0m\u001b[1;33m\u001b[0m\u001b[1;33m\u001b[0m\u001b[0m\n\u001b[1;32m----> 4\u001b[1;33m \u001b[1;32mimport\u001b[0m \u001b[0mgeopandas\u001b[0m \u001b[1;32mas\u001b[0m \u001b[0mgpd\u001b[0m\u001b[1;33m\u001b[0m\u001b[1;33m\u001b[0m\u001b[0m\n\u001b[0m\u001b[0;32m      5\u001b[0m \u001b[1;33m\u001b[0m\u001b[0m\n\u001b[0;32m      6\u001b[0m \u001b[1;32mfrom\u001b[0m \u001b[0mshapely\u001b[0m\u001b[1;33m.\u001b[0m\u001b[0mgeometry\u001b[0m \u001b[1;32mimport\u001b[0m \u001b[0mPoint\u001b[0m\u001b[1;33m,\u001b[0m \u001b[0mPolygon\u001b[0m\u001b[1;33m\u001b[0m\u001b[1;33m\u001b[0m\u001b[0m\n",
      "\u001b[1;31mModuleNotFoundError\u001b[0m: No module named 'geopandas'"
     ]
    }
   ],
   "source": [
    "import pandas as pd\n",
    "import numpy as np\n",
    "import matplotlib.pyplot as plt\n",
    "import geopandas as gpd\n",
    "\n",
    "from shapely.geometry import Point, Polygon\n",
    "from datetime import datetime\n",
    "from colour import Color"
   ]
  },
  {
   "cell_type": "code",
   "execution_count": null,
   "metadata": {},
   "outputs": [],
   "source": [
    "# Read in prepped csv files\n",
    "lis = pd.read_csv('./data/prepped/lis.csv')\n",
    "cal = pd.read_csv('./data/raw/calendar.csv')"
   ]
  },
  {
   "cell_type": "code",
   "execution_count": null,
   "metadata": {},
   "outputs": [],
   "source": [
    "cal.head()"
   ]
  },
  {
   "cell_type": "code",
   "execution_count": null,
   "metadata": {},
   "outputs": [],
   "source": [
    "# Create is_available column to code available into binary 0 or 1\n",
    "cal['is_available'] = np.where(cal['available'] == 't', 1, 0)"
   ]
  },
  {
   "cell_type": "code",
   "execution_count": null,
   "metadata": {},
   "outputs": [],
   "source": [
    "# Create datetime column to convert date strings into type datetime\n",
    "cal['datetime'] = cal.date.apply(lambda x: datetime.strptime(x, '%Y-%m-%d'))"
   ]
  },
  {
   "cell_type": "code",
   "execution_count": null,
   "metadata": {},
   "outputs": [],
   "source": [
    "cal.head()"
   ]
  },
  {
   "cell_type": "code",
   "execution_count": null,
   "metadata": {},
   "outputs": [],
   "source": [
    "cal_by_datetime = cal.groupby(['datetime'], as_index = False).sum()\n",
    "\n",
    "# with pd.option_context('display.max_rows', None, 'display.max_columns', None):\n",
    "#     display(cal_by_datetime)"
   ]
  },
  {
   "cell_type": "code",
   "execution_count": null,
   "metadata": {},
   "outputs": [],
   "source": [
    "fig_num_listings_by_date = plt.figure(figsize = (10, 10))\n",
    "plt.plot(cal_by_datetime.datetime.dt.to_pydatetime(), cal_by_datetime['is_available'])\n",
    "plt.xlabel('Date')\n",
    "plt.ylabel('Number of Available Listings')\n",
    "plt.title('Number of Available Listings for Seattle in 2016')\n",
    "plt.show()"
   ]
  },
  {
   "cell_type": "code",
   "execution_count": null,
   "metadata": {},
   "outputs": [],
   "source": [
    "lis_by_neighbourhood = lis.groupby(['neighbourhood_cleansed'], as_index = False).count()\n",
    "\n",
    "lis_by_neighbourhood"
   ]
  },
  {
   "cell_type": "code",
   "execution_count": null,
   "metadata": {
    "scrolled": true
   },
   "outputs": [],
   "source": [
    "fig_num_listings_by_neighbourhood = plt.figure(figsize = (30, 30))\n",
    "plt.bar(lis_by_neighbourhood['neighbourhood_cleansed'], lis_by_neighbourhood['id'])\n",
    "plt.xlabel('Date')\n",
    "plt.ylabel('Number of Available Listings')\n",
    "plt.title('Number of Available Listings for Seattle in 2016')\n",
    "plt.show()"
   ]
  },
  {
   "cell_type": "code",
   "execution_count": null,
   "metadata": {
    "scrolled": true
   },
   "outputs": [],
   "source": [
    "# Create geometry column for listings\n",
    "geometry = [Point(xy) for xy in zip(lis['longitude'], lis['latitude'])]\n",
    "crs = {'init': 'epsg:4326'}\n",
    "lis = gpd.GeoDataFrame(lis, crs = crs, geometry = geometry)"
   ]
  },
  {
   "cell_type": "code",
   "execution_count": null,
   "metadata": {},
   "outputs": [],
   "source": [
    "# From https://data.seattle.gov/Land-Base/2010-US-Census-Blocks/46cb-j9zb\n",
    "# Create background map of Seattle\n",
    "shp = gpd.GeoDataFrame.from_file('data/raw/2010_US_Census_Blocks.shp')"
   ]
  },
  {
   "cell_type": "code",
   "execution_count": null,
   "metadata": {},
   "outputs": [],
   "source": [
    "# Map of Seattle Airbnb Listings\n",
    "fig_map_seattle_listings, ax = plt.subplots(figsize = (15, 15))\n",
    "base = shp.plot(ax = ax, color = 'black')\n",
    "lis.plot(ax = base,\n",
    "         marker = 'o',\n",
    "         color = 'orange',\n",
    "         markersize = 5,\n",
    "         alpha = 0.5)\n",
    "_ = ax.axis('off')\n",
    "plt.title('Seattle Airbnb Listings')\n",
    "plt.show()"
   ]
  },
  {
   "cell_type": "code",
   "execution_count": null,
   "metadata": {},
   "outputs": [],
   "source": [
    "# Generate color gradient\n",
    "violet = Color('violet')\n",
    "violet_to_indigo = list(violet.range_to(Color('indigo'), 6))\n",
    "\n",
    "violet_to_indigo"
   ]
  },
  {
   "cell_type": "code",
   "execution_count": null,
   "metadata": {},
   "outputs": [],
   "source": [
    "# Convert price \n",
    "lis['price_int'] = lis.price[1:]\n",
    "lis['price_int'] = lis.price.apply(lambda x: int(float(x[1:].replace(',', ''))))"
   ]
  },
  {
   "cell_type": "code",
   "execution_count": null,
   "metadata": {},
   "outputs": [],
   "source": [
    "fig_map_seattle_listings_price, ax = plt.subplots(figsize = (15, 15))\n",
    "base = shp.plot(ax = ax, color = 'grey')\n",
    "lis[lis.price_int <= 50].plot(ax = base,\n",
    "                              marker = 'o',\n",
    "                              color = 'violet',\n",
    "                              markersize = 5,\n",
    "                              alpha = 0.5,\n",
    "                              label = '<$50')\n",
    "lis[(lis.price_int > 50) & (lis.price_int < 100)].plot(ax = base,\n",
    "                                                       marker = 'o',\n",
    "                                                       color = '#e054ed',\n",
    "                                                       markersize = 5,\n",
    "                                                       alpha = 0.5,\n",
    "                                                       label = '$50-99')\n",
    "lis[(lis.price_int >= 100) & (lis.price_int < 150)].plot(ax = base,\n",
    "                                                         marker = 'o',\n",
    "                                                         color = '#cc23ee',\n",
    "                                                         markersize = 5,\n",
    "                                                         alpha = 0.5,\n",
    "                                                         label = '$100-149')\n",
    "lis[(lis.price_int >= 150) & (lis.price_int < 200)].plot(ax = base,\n",
    "                                                         marker = 'o',\n",
    "                                                         color = '#a30bd6',\n",
    "                                                         markersize = 5,\n",
    "                                                         alpha = 0.5,\n",
    "                                                         label = '$150-199')\n",
    "lis[(lis.price_int >= 200) & (lis.price_int < 250)].plot(ax = base,\n",
    "                                                         marker = 'o',\n",
    "                                                         color = '#7404ad',\n",
    "                                                         markersize = 5,\n",
    "                                                         alpha = 0.5,\n",
    "                                                         label = '$200-249')\n",
    "lis[(lis.price_int >= 250)].plot(ax = base,\n",
    "                                 marker = 'o',\n",
    "                                 color = 'indigo',\n",
    "                                 markersize = 5,\n",
    "                                 alpha = 0.5,\n",
    "                                 label = '>$250')\n",
    "\n",
    "\n",
    "\n",
    "_ = ax.axis('off')\n",
    "plt.title('Seattle Listings by Price')\n",
    "plt.legend()\n",
    "plt.show()"
   ]
  },
  {
   "cell_type": "code",
   "execution_count": null,
   "metadata": {},
   "outputs": [],
   "source": [
    "print('Less than $50: ' + str(lis[lis.price_int < 50].count()[0]))\n",
    "print('$50 - $99: ' + str(lis[(lis.price_int >= 50) & (lis.price_int < 100)].count()[0]))\n",
    "print('$100 - $149: ' + str(lis[(lis.price_int >= 100) & (lis.price_int < 150)].count()[0]))\n",
    "print('$150 - $199: ' + str(lis[(lis.price_int >= 150) & (lis.price_int < 200)].count()[0]))\n",
    "print('$200 - $249: ' + str(lis[(lis.price_int >= 200) & (lis.price_int < 250)].count()[0]))\n",
    "print('Greater than $250: ' + str(lis[(lis.price_int >= 250)].count()[0]))"
   ]
  },
  {
   "cell_type": "code",
   "execution_count": null,
   "metadata": {},
   "outputs": [],
   "source": [
    "# Graph of review rating vs. price\n",
    "plt.figure(figsize = (15, 15))\n",
    "plt.scatter(lis.review_scores_rating, lis.price_int, alpha = 0.5)\n",
    "plt.xlabel('Review Rating')\n",
    "plt.ylabel('Price')\n",
    "plt.title('Rating vs. Price')\n",
    "plt.show()"
   ]
  },
  {
   "cell_type": "code",
   "execution_count": null,
   "metadata": {},
   "outputs": [],
   "source": [
    "lis.amenities[0].count(',')"
   ]
  },
  {
   "cell_type": "code",
   "execution_count": null,
   "metadata": {},
   "outputs": [],
   "source": [
    "lis.amenities[0]"
   ]
  },
  {
   "cell_type": "code",
   "execution_count": null,
   "metadata": {},
   "outputs": [],
   "source": [
    "lis['amenities_count'] = lis.amenities.apply(lambda x: x.count(',') + 1)\n",
    "#cal['datetime'] = cal.date.apply(lambda x: datetime.strptime(x, '%Y-%m-%d'))"
   ]
  },
  {
   "cell_type": "code",
   "execution_count": null,
   "metadata": {},
   "outputs": [],
   "source": [
    "# Graph of number of amenities vs. price\n",
    "fig_num_amenities_vs_price = plt.figure(figsize = (15, 15))\n",
    "plt.scatter(lis.amenities_count, lis.price_int, alpha = 0.5)\n",
    "plt.xlabel('Number of Amenities')\n",
    "plt.ylabel('Price')\n",
    "plt.title('Number of Amenities vs. Price')\n",
    "plt.show()"
   ]
  },
  {
   "cell_type": "code",
   "execution_count": null,
   "metadata": {},
   "outputs": [],
   "source": [
    "lis.groupby(lis.zipcode).count()"
   ]
  },
  {
   "cell_type": "code",
   "execution_count": null,
   "metadata": {},
   "outputs": [],
   "source": []
  }
 ],
 "metadata": {
  "kernelspec": {
   "display_name": "Python 3",
   "language": "python",
   "name": "python3"
  },
  "language_info": {
   "codemirror_mode": {
    "name": "ipython",
    "version": 3
   },
   "file_extension": ".py",
   "mimetype": "text/x-python",
   "name": "python",
   "nbconvert_exporter": "python",
   "pygments_lexer": "ipython3",
   "version": "3.7.1"
  }
 },
 "nbformat": 4,
 "nbformat_minor": 2
}

{
 "cells": [
  {
   "cell_type": "code",
   "execution_count": 195,
   "metadata": {},
   "outputs": [],
   "source": [
    "import pandas as pd\n",
    "import numpy as np\n",
    "import statsmodels.formula.api as smf\n",
    "\n",
    "from sklearn.model_selection import train_test_split\n",
    "from sklearn.model_selection import GridSearchCV\n",
    "from sklearn.feature_selection import RFE"
   ]
  },
  {
   "cell_type": "code",
   "execution_count": 196,
   "metadata": {},
   "outputs": [],
   "source": [
    "listing = pd.read_csv('data/prepped/lis_out.csv')"
   ]
  },
  {
   "cell_type": "code",
   "execution_count": 197,
   "metadata": {},
   "outputs": [
    {
     "data": {
      "text/html": [
       "<div>\n",
       "<style scoped>\n",
       "    .dataframe tbody tr th:only-of-type {\n",
       "        vertical-align: middle;\n",
       "    }\n",
       "\n",
       "    .dataframe tbody tr th {\n",
       "        vertical-align: top;\n",
       "    }\n",
       "\n",
       "    .dataframe thead th {\n",
       "        text-align: right;\n",
       "    }\n",
       "</style>\n",
       "<table border=\"1\" class=\"dataframe\">\n",
       "  <thead>\n",
       "    <tr style=\"text-align: right;\">\n",
       "      <th></th>\n",
       "      <th>id</th>\n",
       "      <th>name</th>\n",
       "      <th>summary</th>\n",
       "      <th>space</th>\n",
       "      <th>description</th>\n",
       "      <th>neighborhood_overview</th>\n",
       "      <th>notes</th>\n",
       "      <th>transit</th>\n",
       "      <th>host_about</th>\n",
       "      <th>host_listings_count</th>\n",
       "      <th>...</th>\n",
       "      <th>weekly_price_float</th>\n",
       "      <th>monthly_price_float</th>\n",
       "      <th>host_is_super_host</th>\n",
       "      <th>host_response_rate_float</th>\n",
       "      <th>review_true_score</th>\n",
       "      <th>cancel_policy_code</th>\n",
       "      <th>property_code</th>\n",
       "      <th>neighbourhood_code</th>\n",
       "      <th>room_code</th>\n",
       "      <th>zipcode_code</th>\n",
       "    </tr>\n",
       "  </thead>\n",
       "  <tbody>\n",
       "    <tr>\n",
       "      <th>0</th>\n",
       "      <td>0.0</td>\n",
       "      <td>0.0</td>\n",
       "      <td>0.0</td>\n",
       "      <td>0.0</td>\n",
       "      <td>0.0</td>\n",
       "      <td>0.0</td>\n",
       "      <td>0.0</td>\n",
       "      <td>0.0</td>\n",
       "      <td>0.0</td>\n",
       "      <td>0.0</td>\n",
       "      <td>...</td>\n",
       "      <td>0.0</td>\n",
       "      <td>0.00</td>\n",
       "      <td>0.0</td>\n",
       "      <td>0.0</td>\n",
       "      <td>0.0000</td>\n",
       "      <td>0</td>\n",
       "      <td>0</td>\n",
       "      <td>0</td>\n",
       "      <td>0</td>\n",
       "      <td>0</td>\n",
       "    </tr>\n",
       "    <tr>\n",
       "      <th>1</th>\n",
       "      <td>5956968.0</td>\n",
       "      <td>6.0</td>\n",
       "      <td>44.0</td>\n",
       "      <td>83.0</td>\n",
       "      <td>189.0</td>\n",
       "      <td>22.0</td>\n",
       "      <td>14.0</td>\n",
       "      <td>19.0</td>\n",
       "      <td>40.0</td>\n",
       "      <td>1.0</td>\n",
       "      <td>...</td>\n",
       "      <td>800.0</td>\n",
       "      <td>3476.00</td>\n",
       "      <td>0.0</td>\n",
       "      <td>0.0</td>\n",
       "      <td>2.3275</td>\n",
       "      <td>2</td>\n",
       "      <td>10</td>\n",
       "      <td>13</td>\n",
       "      <td>2</td>\n",
       "      <td>15</td>\n",
       "    </tr>\n",
       "    <tr>\n",
       "      <th>2</th>\n",
       "      <td>1909058.0</td>\n",
       "      <td>6.0</td>\n",
       "      <td>39.0</td>\n",
       "      <td>175.0</td>\n",
       "      <td>172.0</td>\n",
       "      <td>15.0</td>\n",
       "      <td>15.0</td>\n",
       "      <td>90.0</td>\n",
       "      <td>42.0</td>\n",
       "      <td>1.0</td>\n",
       "      <td>...</td>\n",
       "      <td>575.0</td>\n",
       "      <td>2498.38</td>\n",
       "      <td>1.0</td>\n",
       "      <td>1.0</td>\n",
       "      <td>2.4354</td>\n",
       "      <td>1</td>\n",
       "      <td>10</td>\n",
       "      <td>13</td>\n",
       "      <td>2</td>\n",
       "      <td>15</td>\n",
       "    </tr>\n",
       "    <tr>\n",
       "      <th>3</th>\n",
       "      <td>4948745.0</td>\n",
       "      <td>6.0</td>\n",
       "      <td>32.0</td>\n",
       "      <td>23.0</td>\n",
       "      <td>167.0</td>\n",
       "      <td>81.0</td>\n",
       "      <td>0.0</td>\n",
       "      <td>42.0</td>\n",
       "      <td>44.0</td>\n",
       "      <td>1.0</td>\n",
       "      <td>...</td>\n",
       "      <td>500.0</td>\n",
       "      <td>1700.00</td>\n",
       "      <td>0.0</td>\n",
       "      <td>0.0</td>\n",
       "      <td>1.1834</td>\n",
       "      <td>2</td>\n",
       "      <td>1</td>\n",
       "      <td>13</td>\n",
       "      <td>2</td>\n",
       "      <td>9</td>\n",
       "    </tr>\n",
       "    <tr>\n",
       "      <th>4</th>\n",
       "      <td>4454295.0</td>\n",
       "      <td>5.0</td>\n",
       "      <td>37.0</td>\n",
       "      <td>29.0</td>\n",
       "      <td>110.0</td>\n",
       "      <td>16.0</td>\n",
       "      <td>0.0</td>\n",
       "      <td>7.0</td>\n",
       "      <td>45.0</td>\n",
       "      <td>1.0</td>\n",
       "      <td>...</td>\n",
       "      <td>800.0</td>\n",
       "      <td>2000.00</td>\n",
       "      <td>0.0</td>\n",
       "      <td>1.0</td>\n",
       "      <td>0.9506</td>\n",
       "      <td>2</td>\n",
       "      <td>10</td>\n",
       "      <td>13</td>\n",
       "      <td>1</td>\n",
       "      <td>15</td>\n",
       "    </tr>\n",
       "  </tbody>\n",
       "</table>\n",
       "<p>5 rows × 45 columns</p>\n",
       "</div>"
      ],
      "text/plain": [
       "          id  name  summary  space  description  neighborhood_overview  notes  \\\n",
       "0        0.0   0.0      0.0    0.0          0.0                    0.0    0.0   \n",
       "1  5956968.0   6.0     44.0   83.0        189.0                   22.0   14.0   \n",
       "2  1909058.0   6.0     39.0  175.0        172.0                   15.0   15.0   \n",
       "3  4948745.0   6.0     32.0   23.0        167.0                   81.0    0.0   \n",
       "4  4454295.0   5.0     37.0   29.0        110.0                   16.0    0.0   \n",
       "\n",
       "   transit  host_about  host_listings_count      ...       weekly_price_float  \\\n",
       "0      0.0         0.0                  0.0      ...                      0.0   \n",
       "1     19.0        40.0                  1.0      ...                    800.0   \n",
       "2     90.0        42.0                  1.0      ...                    575.0   \n",
       "3     42.0        44.0                  1.0      ...                    500.0   \n",
       "4      7.0        45.0                  1.0      ...                    800.0   \n",
       "\n",
       "   monthly_price_float  host_is_super_host  host_response_rate_float  \\\n",
       "0                 0.00                 0.0                       0.0   \n",
       "1              3476.00                 0.0                       0.0   \n",
       "2              2498.38                 1.0                       1.0   \n",
       "3              1700.00                 0.0                       0.0   \n",
       "4              2000.00                 0.0                       1.0   \n",
       "\n",
       "   review_true_score  cancel_policy_code  property_code  neighbourhood_code  \\\n",
       "0             0.0000                   0              0                   0   \n",
       "1             2.3275                   2             10                  13   \n",
       "2             2.4354                   1             10                  13   \n",
       "3             1.1834                   2              1                  13   \n",
       "4             0.9506                   2             10                  13   \n",
       "\n",
       "   room_code  zipcode_code  \n",
       "0          0             0  \n",
       "1          2            15  \n",
       "2          2            15  \n",
       "3          2             9  \n",
       "4          1            15  \n",
       "\n",
       "[5 rows x 45 columns]"
      ]
     },
     "execution_count": 197,
     "metadata": {},
     "output_type": "execute_result"
    }
   ],
   "source": [
    "listing.head()"
   ]
  },
  {
   "cell_type": "code",
   "execution_count": 198,
   "metadata": {},
   "outputs": [],
   "source": [
    "#####  Forward Select from any Data Set using Linear Models\n",
    "import warnings\n",
    "warnings.filterwarnings(\"ignore\")\n",
    "import statsmodels.formula.api as smf\n",
    "import statsmodels.api as sm\n",
    "import time\n",
    "from scipy import stats\n",
    "def Forward_Select(data, response, modeltype, metric):\n",
    "    \"\"\"Select Variables using forward selection before building a Linear model.\n",
    "\n",
    "    Parameters:\n",
    "    -----------\n",
    "    data : pandas DataFrame with all possible predictors and response\n",
    "    response: string, name of response column in data\n",
    "    model_type: It accepts both \"Regression\" and \"Classification\" type problems.\n",
    "    metric: the criteria improving which the variable is Selected.\n",
    "          The metric must be a known metric among all Statsmodels' model metrics.\n",
    "\n",
    "    Returns:\n",
    "    --------\n",
    "    model: an \"optimal\" fitted statsmodels linear model with an intercept\n",
    "           selected by forward selection. \n",
    "           evaluated by adjusted R-squared or AIC or BIC or whatever\n",
    "    selected: variables that are selected by this algorithm.\n",
    "    \"\"\"\n",
    "    ############################################################################\n",
    "    #####   CAUTION CAUTION: IF you have Scipy 1.0 version you have to do this \n",
    "    ##### This is a dumb workaround until Scipy 1.0 is patched - I should not have\n",
    "    ### upgraded from scipy 0.19 to scipy 1.0 = full of bugs!![]. If you DONT\n",
    "    #### have this statement then your glm.summary statement will give an ERROR\n",
    "    stats.chisqprob = lambda chisq, data: stats.chi2.sf(chisq, data)\n",
    "    #### For those who have Scipy 0.19 or older, you can comment out above line.\n",
    "    ############################################################################\n",
    "    start_time = time.time()\n",
    "    remaining = set(data.columns)\n",
    "    remaining.remove(response)\n",
    "    selected = []\n",
    "    maxiter = 1000\n",
    "    if metric == 'rsquared' or metric == 'rsquared_adj':\n",
    "        current_score, best_new_score = 0.0, 0.0\n",
    "    else:\n",
    "        current_score, best_new_score = np.inf, np.inf\n",
    "    iterations = 1\n",
    "    if data[response].dtype == object:\n",
    "        response_char = 'C(' + response + ')'\n",
    "        data[response], factors = factorize_class(data[response])\n",
    "    else:\n",
    "        response_char = response\n",
    "    while remaining and current_score == best_new_score:\n",
    "        scores_with_candidates = []\n",
    "        for candidate in remaining:\n",
    "            #print('Variable considered: %s' %candidate)\n",
    "            if data[candidate].dtype == object:\n",
    "                ### If it is a categorical variable, encode it this way\n",
    "                #### In smf formula string notation, you don't have to add 1. it adds it automatically.\n",
    "                if selected == []:\n",
    "                    formula = \"{} ~ {}\".format(response_char,\n",
    "                                                'C('+candidate+')')\n",
    "                else:\n",
    "                    formula = \"{} ~ {} + {}\".format(response_char,\n",
    "                                            ' + '.join(selected), 'C('+candidate+')')\n",
    "            else:\n",
    "                formula = \"{} ~ {}\".format(response_char,\n",
    "                                           ' + '.join(selected + [candidate]))\n",
    "            if modeltype == 'Regression':\n",
    "                model = smf.ols(formula, data).fit(max_iter=maxiter, disp=0)\n",
    "            else:\n",
    "                if len(data[response].value_counts()) > 2:\n",
    "                    try:\n",
    "                        model = smf.mnlogit(formula=formula, data=data).fit(max_iter=maxiter, disp=0)\n",
    "                    except:\n",
    "                        model = smf.glm(formula=formula, data=data, family=sm.families.Binomial()).fit(\n",
    "                                        max_iter=maxiter, disp=0)\n",
    "                else:\n",
    "                    try:\n",
    "                        model = smf.logit(formula=formula, data=data).fit(max_iter=maxiter, disp=0)\n",
    "                    except:\n",
    "                        model = smf.glm(formula=formula, data=data, family=sm.families.Binomial()).fit(\n",
    "                                                    max_iter=maxiter, disp=0)\n",
    "            try:\n",
    "                score = eval('model.'+metric)\n",
    "            except:\n",
    "                if modeltype == 'Regression':\n",
    "                    metric = 'aic'\n",
    "                    print('Metric not recognized. Choosing default = %s' %metric)\n",
    "                else:\n",
    "                    metric = 'aic'\n",
    "                    print('Metric not recognized. Choosing default = %s' %metric)\n",
    "                score = eval('model.'+metric)\n",
    "            iterations += 1\n",
    "            scores_with_candidates.append((score, candidate))\n",
    "        if metric == 'rsquared' or metric == 'rsquared_adj':\n",
    "            scores_with_candidates.sort(reverse=False)\n",
    "        else:\n",
    "            scores_with_candidates.sort(reverse=False)\n",
    "        best_new_score, best_candidate = scores_with_candidates.pop()\n",
    "        if metric == 'rsquared' or metric == 'rsquared_adj':\n",
    "            if current_score < best_new_score:\n",
    "                remaining.remove(best_candidate)\n",
    "                selected.append(best_candidate)\n",
    "                current_score = best_new_score\n",
    "        else:\n",
    "            if current_score > best_new_score:\n",
    "                remaining.remove(best_candidate)\n",
    "                selected.append(best_candidate)\n",
    "                current_score = best_new_score\n",
    "    tempform = []\n",
    "    print('Time taken for %d iterations (minutes): %0.2f' %(iterations, (time.time()-start_time)/60))\n",
    "    for eachcol in selected:\n",
    "        if tempform == []:\n",
    "            if data[eachcol].dtype == object:\n",
    "                ### If it is a categorical variable, encode it this way\n",
    "                tempform = 'C('+eachcol+')'\n",
    "            else:\n",
    "                tempform = eachcol\n",
    "        else:\n",
    "            if data[eachcol].dtype == object:\n",
    "                ### If it is a categorical variable, encode it this way\n",
    "                tempform = \"{} + {}\".format(tempform, 'C('+eachcol+')')\n",
    "            else:\n",
    "                tempform = \"{} + {}\".format(tempform, eachcol)\n",
    "    ### when all is done, put the formula together ####\n",
    "    formula = \"{} ~ {} \".format(response_char, tempform)\n",
    "    if modeltype == 'Regression':\n",
    "        model = smf.ols(formula, data).fit(max_iter=maxiter, disp=0)\n",
    "    else:\n",
    "        if len(data[response].value_counts()) > 2:\n",
    "            try:\n",
    "                model = smf.mnlogit(formula=formula, data=data).fit(max_iter=maxiter, disp=0)\n",
    "            except:\n",
    "                model = smf.glm(formula=formula, data=data, family=sm.families.Gamma()).fit(\n",
    "                                        max_iter=maxiter, disp=0)\n",
    "        else:\n",
    "            try:\n",
    "                model = smf.logit(formula, data).fit(max_iter=maxiter, disp=0)\n",
    "            except:\n",
    "                model = smf.glm(formula=formula, data=data, family=sm.families.Binomial()).fit(\n",
    "                                        max_iter=maxiter, disp=0)\n",
    "    print('Score = %0.2f, Number Selected = %d\\nmodel formula: %s' %(score,\n",
    "                                    len(selected),formula))\n",
    "    print('Time taken for Final Model (minutes): %0.2f' %((time.time()-start_time)/60))\n",
    "    print(model.summary())\n",
    "    return model, selected"
   ]
  },
  {
   "cell_type": "code",
   "execution_count": 199,
   "metadata": {},
   "outputs": [
    {
     "data": {
      "text/plain": [
       "longitude                        -0.678055\n",
       "number_of_reviews                 0.178263\n",
       "host_is_super_host                0.186259\n",
       "notes                             0.199600\n",
       "reviews_per_month                 0.213616\n",
       "review_true_score                 0.214950\n",
       "transit                           0.231930\n",
       "calculated_host_listings_count    0.247494\n",
       "host_about                        0.255858\n",
       "ep                                0.277775\n",
       "room_code                         0.278710\n",
       "host_listings_count               0.281353\n",
       "host_total_listings_count         0.281353\n",
       "property_code                     0.286034\n",
       "neighborhood_overview             0.290341\n",
       "zipcode_code                      0.362277\n",
       "maximum_nights                    0.366256\n",
       "minimum_nights                    0.369200\n",
       "id                                0.400913\n",
       "neighbourhood_code                0.409354\n",
       "sd                                0.415777\n",
       "space                             0.426187\n",
       "host_response_rate_float          0.468423\n",
       "summary                           0.509653\n",
       "cancel_policy_code                0.513005\n",
       "guests_included                   0.577498\n",
       "description                       0.584462\n",
       "name                              0.585759\n",
       "amenities_count                   0.637122\n",
       "cf                                0.645891\n",
       "review_scores_value               0.658275\n",
       "review_scores_cleanliness         0.669042\n",
       "review_scores_accuracy            0.669640\n",
       "review_scores_checkin             0.670939\n",
       "review_scores_communication       0.674711\n",
       "review_scores_rating              0.676062\n",
       "latitude                          0.677970\n",
       "review_scores_location            0.681528\n",
       "bathrooms                         0.705265\n",
       "bedrooms                          0.713529\n",
       "beds                              0.724176\n",
       "accommodates                      0.776216\n",
       "monthly_price_float               0.932680\n",
       "weekly_price_float                0.970452\n",
       "price_float                       1.000000\n",
       "Name: price_float, dtype: float64"
      ]
     },
     "execution_count": 199,
     "metadata": {},
     "output_type": "execute_result"
    }
   ],
   "source": [
    "listing.corr().price_float.sort_values()"
   ]
  },
  {
   "cell_type": "code",
   "execution_count": 200,
   "metadata": {},
   "outputs": [],
   "source": [
    "selected_cols = ['price_float',\n",
    "                'accommodates',\n",
    "                'beds',\n",
    "                'bedrooms',\n",
    "                'cf',\n",
    "                'sd',\n",
    "                'zipcode_code',\n",
    "                'host_is_super_host',\n",
    "                'bathrooms',\n",
    "                'space',\n",
    "                'minimum_nights',\n",
    "                'latitude',\n",
    "                'host_listings_count',\n",
    "                'review_scores_rating',\n",
    "                'name',\n",
    "                'longitude',\n",
    "                'review_true_score', 'host_response_rate_float']\n",
    "\n",
    "temp = listing[selected_cols]"
   ]
  },
  {
   "cell_type": "code",
   "execution_count": 201,
   "metadata": {},
   "outputs": [
    {
     "data": {
      "image/png": "[encoded data removed]",
      "text/plain": [
       "<Figure size 792x648 with 2 Axes>"
      ]
     },
     "metadata": {
      "needs_background": "light"
     },
     "output_type": "display_data"
    }
   ],
   "source": [
    "import seaborn as sns\n",
    "import matplotlib.pyplot as plt\n",
    "\n",
    "mask = np.zeros_like(temp.corr(), dtype=np.bool)\n",
    "mask[np.triu_indices_from(mask)] = True\n",
    "\n",
    "f, ax = plt.subplots(figsize=(11, 9))\n",
    "\n",
    "cmap = sns.diverging_palette(220, 10, as_cmap=True)\n",
    "\n",
    "sns.heatmap(temp.corr(), mask=mask, cmap=cmap, vmax=1.0, center=0, square=True, linewidths=.5, cbar_kws={\"shrink\":.5})\n",
    "\n",
    "plt.show()"
   ]
  },
  {
   "cell_type": "code",
   "execution_count": 202,
   "metadata": {},
   "outputs": [],
   "source": [
    "formula = ' + '.join(i for i in list(selected_cols[1:]))\n",
    "formula = 'price_float ~ ' + formula"
   ]
  },
  {
   "cell_type": "code",
   "execution_count": 203,
   "metadata": {},
   "outputs": [],
   "source": [
    "#mod = Forward_Select(result, 'price_float', 'Regression', 'rsquared_adj')"
   ]
  },
  {
   "cell_type": "code",
   "execution_count": 204,
   "metadata": {},
   "outputs": [],
   "source": [
    "#mod.params"
   ]
  },
  {
   "cell_type": "code",
   "execution_count": null,
   "metadata": {},
   "outputs": [],
   "source": []
  },
  {
   "cell_type": "code",
   "execution_count": null,
   "metadata": {},
   "outputs": [],
   "source": []
  },
  {
   "cell_type": "code",
   "execution_count": 205,
   "metadata": {},
   "outputs": [],
   "source": [
    "train_features, test_features, train_outcome, test_outcome = train_test_split(\n",
    "    temp.drop('price_float', axis=1),\n",
    "    temp.price_float,\n",
    "    test_size=0.30,\n",
    "    random_state=15\n",
    ")"
   ]
  },
  {
   "cell_type": "markdown",
   "metadata": {},
   "source": [
    "## Negative Binomial Regression"
   ]
  },
  {
   "cell_type": "code",
   "execution_count": 206,
   "metadata": {},
   "outputs": [
    {
     "data": {
      "text/plain": [
       "24.366550225380006"
      ]
     },
     "execution_count": 206,
     "metadata": {},
     "output_type": "execute_result"
    }
   ],
   "source": [
    "mod = smf.glm(formula=formula,\n",
    "              data=temp,\n",
    "              family=sm.families.NegativeBinomial())\n",
    "mod = mod.fit()\n",
    "\n",
    "predictions_nb = mod.predict(test_features)\n",
    "\n",
    "nbr_score = mean_absolute_error(predictions_nb, test_outcome)\n",
    "nbr_score"
   ]
  },
  {
   "cell_type": "code",
   "execution_count": 207,
   "metadata": {},
   "outputs": [
    {
     "data": {
      "text/plain": [
       "<matplotlib.collections.PathCollection at 0x1a1add8f60>"
      ]
     },
     "execution_count": 207,
     "metadata": {},
     "output_type": "execute_result"
    },
    {
     "data": {
      "image/png": "[encoded data removed]",
      "text/plain": [
       "<Figure size 432x288 with 1 Axes>"
      ]
     },
     "metadata": {
      "needs_background": "light"
     },
     "output_type": "display_data"
    }
   ],
   "source": [
    "plt.scatter(predictions_nb, test_outcome)"
   ]
  },
  {
   "cell_type": "markdown",
   "metadata": {},
   "source": [
    "## Baseline Linear Regression"
   ]
  },
  {
   "cell_type": "code",
   "execution_count": 208,
   "metadata": {},
   "outputs": [],
   "source": [
    "#Baseline model\n",
    "from sklearn.linear_model import LinearRegression\n",
    "\n",
    "ls = LinearRegression()\n",
    "ls.fit(train_features, train_outcome)\n",
    "pred = ls.predict(test_features)"
   ]
  },
  {
   "cell_type": "code",
   "execution_count": 209,
   "metadata": {},
   "outputs": [
    {
     "data": {
      "text/plain": [
       "24.464345385731573"
      ]
     },
     "execution_count": 209,
     "metadata": {},
     "output_type": "execute_result"
    }
   ],
   "source": [
    "from sklearn.metrics import mean_absolute_error\n",
    "\n",
    "base_lin_score = mean_absolute_error(test_outcome, pred)\n",
    "base_lin_score"
   ]
  },
  {
   "cell_type": "markdown",
   "metadata": {},
   "source": [
    "## K-Nearest Neighbors"
   ]
  },
  {
   "cell_type": "code",
   "execution_count": 210,
   "metadata": {},
   "outputs": [],
   "source": [
    "from sklearn.neighbors import KNeighborsRegressor    # KNN regressor\n",
    "from sklearn.preprocessing import StandardScaler      # scaling data\n",
    "from sklearn.pipeline import make_pipeline \n",
    "\n",
    "#Regression Model\n",
    "knn_reg = KNeighborsRegressor()\n",
    "\n",
    "std_scaler = StandardScaler()\n",
    "\n",
    "# Define a pipeline that uses your scaler and classifier\n",
    "pipe_knn = make_pipeline(std_scaler, knn_reg)\n",
    "\n",
    "# Define a grid to search through\n",
    "param_grid_knn = {'kneighborsregressor__n_neighbors':range(10, 20), \n",
    "                  'kneighborsregressor__weights':[\"uniform\", \"distance\"],\n",
    "                  'kneighborsregressor__algorithm':['auto']}\n",
    "\n",
    "# Perform a  grid search of your pipeline\n",
    "grid_knn = GridSearchCV(pipe_knn, param_grid_knn, cv=10, scoring=\"neg_mean_absolute_error\")"
   ]
  },
  {
   "cell_type": "code",
   "execution_count": 211,
   "metadata": {},
   "outputs": [
    {
     "data": {
      "text/plain": [
       "GridSearchCV(cv=10, error_score='raise-deprecating',\n",
       "       estimator=Pipeline(memory=None,\n",
       "     steps=[('standardscaler', StandardScaler(copy=True, with_mean=True, with_std=True)), ('kneighborsregressor', KNeighborsRegressor(algorithm='auto', leaf_size=30, metric='minkowski',\n",
       "          metric_params=None, n_jobs=None, n_neighbors=5, p=2,\n",
       "          weights='uniform'))]),\n",
       "       fit_params=None, iid='warn', n_jobs=None,\n",
       "       param_grid={'kneighborsregressor__n_neighbors': range(10, 20), 'kneighborsregressor__weights': ['uniform', 'distance'], 'kneighborsregressor__algorithm': ['auto']},\n",
       "       pre_dispatch='2*n_jobs', refit=True, return_train_score='warn',\n",
       "       scoring='neg_mean_absolute_error', verbose=0)"
      ]
     },
     "execution_count": 211,
     "metadata": {},
     "output_type": "execute_result"
    }
   ],
   "source": [
    "grid_knn.fit(train_features, train_outcome)"
   ]
  },
  {
   "cell_type": "code",
   "execution_count": 212,
   "metadata": {},
   "outputs": [
    {
     "data": {
      "text/plain": [
       "-23.219322167824934"
      ]
     },
     "execution_count": 212,
     "metadata": {},
     "output_type": "execute_result"
    }
   ],
   "source": [
    "knn_score = grid_knn.score(test_features, test_outcome)\n",
    "knn_score"
   ]
  },
  {
   "cell_type": "code",
   "execution_count": 214,
   "metadata": {},
   "outputs": [
    {
     "data": {
      "image/png": "[encoded data removed]",
      "text/plain": [
       "<Figure size 432x288 with 1 Axes>"
      ]
     },
     "metadata": {
      "needs_background": "light"
     },
     "output_type": "display_data"
    }
   ],
   "source": [
    "plt.scatter(test_outcome, grid_knn.predict(test_features))\n",
    "plt.plot([0,350], [0, 250], color='k')\n",
    "plt.show()"
   ]
  },
  {
   "cell_type": "markdown",
   "metadata": {},
   "source": [
    "## Ridge Linear Regression"
   ]
  },
  {
   "cell_type": "code",
   "execution_count": 215,
   "metadata": {},
   "outputs": [],
   "source": [
    "from sklearn.linear_model import Ridge\n",
    "\n",
    "lin_reg = Ridge()\n",
    "\n",
    "# Define a pipeline that uses your scaler and classifier\n",
    "lin_pipe = make_pipeline(std_scaler, lin_reg)\n",
    "\n",
    "# Define a grid to search through\n",
    "param_grid_lin = {'ridge__alpha':[1],\n",
    "                  'ridge__fit_intercept':[True,False],\n",
    "                  'ridge__normalize':[True,False],\n",
    "                  'ridge__copy_X':[True, False],\n",
    "                  'ridge__solver':['auto', 'svd', 'cholesky', 'lsqr', 'sparse_cg', 'sag', 'saga']}\n",
    "\n",
    "# Perform a  grid search of your pipeline\n",
    "grid_lin = GridSearchCV(lin_pipe, param_grid_lin, scoring=\"neg_mean_absolute_error\")\n"
   ]
  },
  {
   "cell_type": "code",
   "execution_count": 216,
   "metadata": {},
   "outputs": [
    {
     "data": {
      "text/plain": [
       "GridSearchCV(cv='warn', error_score='raise-deprecating',\n",
       "       estimator=Pipeline(memory=None,\n",
       "     steps=[('standardscaler', StandardScaler(copy=True, with_mean=True, with_std=True)), ('ridge', Ridge(alpha=1.0, copy_X=True, fit_intercept=True, max_iter=None,\n",
       "   normalize=False, random_state=None, solver='auto', tol=0.001))]),\n",
       "       fit_params=None, iid='warn', n_jobs=None,\n",
       "       param_grid={'ridge__alpha': [1], 'ridge__fit_intercept': [True, False], 'ridge__normalize': [True, False], 'ridge__copy_X': [True, False], 'ridge__solver': ['auto', 'svd', 'cholesky', 'lsqr', 'sparse_cg', 'sag', 'saga']},\n",
       "       pre_dispatch='2*n_jobs', refit=True, return_train_score='warn',\n",
       "       scoring='neg_mean_absolute_error', verbose=0)"
      ]
     },
     "execution_count": 216,
     "metadata": {},
     "output_type": "execute_result"
    }
   ],
   "source": [
    "grid_lin.fit(train_features, train_outcome)"
   ]
  },
  {
   "cell_type": "code",
   "execution_count": 217,
   "metadata": {},
   "outputs": [
    {
     "data": {
      "text/plain": [
       "-24.62070135871451"
      ]
     },
     "execution_count": 217,
     "metadata": {},
     "output_type": "execute_result"
    }
   ],
   "source": [
    "ridge_score = grid_lin.score(test_features, test_outcome)\n",
    "ridge_score"
   ]
  },
  {
   "cell_type": "code",
   "execution_count": 218,
   "metadata": {},
   "outputs": [
    {
     "data": {
      "image/png": "[encoded data removed]",
      "text/plain": [
       "<Figure size 432x288 with 1 Axes>"
      ]
     },
     "metadata": {
      "needs_background": "light"
     },
     "output_type": "display_data"
    }
   ],
   "source": [
    "plt.scatter(test_outcome, grid_lin.predict(test_features))\n",
    "plt.plot([0,350], [0, 250], color='k')\n",
    "plt.show()"
   ]
  },
  {
   "cell_type": "markdown",
   "metadata": {},
   "source": [
    "## XGBooster Regression"
   ]
  },
  {
   "cell_type": "code",
   "execution_count": 219,
   "metadata": {},
   "outputs": [],
   "source": [
    "from xgboost import XGBRegressor\n",
    "\n",
    "xgb_model = XGBRegressor()\n",
    "\n",
    "param_grid_xgb = {'n_jobs':[4], #when use hyperthread, xgboost may become slower\n",
    "              'objective':['reg:linear'],\n",
    "              'learning_rate': [0.05], #so called `eta` value\n",
    "              'max_depth': [5],\n",
    "              'min_child_weight':[1],\n",
    "              'colsample_bytree': [0.8],\n",
    "              'gamma':[0.5],\n",
    "              'subsample':[0.9],\n",
    "              'random_state':[11],\n",
    "              'n_estimators': [1000] #number of trees\n",
    "              }\n",
    "\n",
    "grid_xgb = GridSearchCV(xgb_model, param_grid_xgb, scoring='neg_mean_absolute_error')"
   ]
  },
  {
   "cell_type": "code",
   "execution_count": 220,
   "metadata": {},
   "outputs": [
    {
     "data": {
      "text/plain": [
       "GridSearchCV(cv='warn', error_score='raise-deprecating',\n",
       "       estimator=XGBRegressor(base_score=0.5, booster='gbtree', colsample_bylevel=1,\n",
       "       colsample_bytree=1, gamma=0, learning_rate=0.1, max_delta_step=0,\n",
       "       max_depth=3, min_child_weight=1, missing=None, n_estimators=100,\n",
       "       n_jobs=1, nthread=None, objective='reg:linear', random_state=0,\n",
       "       reg_alpha=0, reg_lambda=1, scale_pos_weight=1, seed=None,\n",
       "       silent=True, subsample=1),\n",
       "       fit_params=None, iid='warn', n_jobs=None,\n",
       "       param_grid={'n_jobs': [4], 'objective': ['reg:linear'], 'learning_rate': [0.05], 'max_depth': [5], 'min_child_weight': [1], 'colsample_bytree': [0.8], 'gamma': [0.5], 'subsample': [0.9], 'random_state': [11], 'n_estimators': [1000]},\n",
       "       pre_dispatch='2*n_jobs', refit=True, return_train_score='warn',\n",
       "       scoring='neg_mean_absolute_error', verbose=0)"
      ]
     },
     "execution_count": 220,
     "metadata": {},
     "output_type": "execute_result"
    }
   ],
   "source": [
    "grid_xgb.fit(train_features, train_outcome)"
   ]
  },
  {
   "cell_type": "code",
   "execution_count": 221,
   "metadata": {},
   "outputs": [
    {
     "data": {
      "text/plain": [
       "-20.756329545794152"
      ]
     },
     "execution_count": 221,
     "metadata": {},
     "output_type": "execute_result"
    }
   ],
   "source": [
    "xgb_score = grid_xgb.score(test_features, test_outcome)\n",
    "xgb_score"
   ]
  },
  {
   "cell_type": "code",
   "execution_count": null,
   "metadata": {},
   "outputs": [],
   "source": [
    "sns.boxplot(x=result_NAN.total_bookings)"
   ]
  },
  {
   "cell_type": "code",
   "execution_count": 129,
   "metadata": {},
   "outputs": [
    {
     "data": {
      "text/plain": [
       "<matplotlib.axes._subplots.AxesSubplot at 0x1a18aeac88>"
      ]
     },
     "execution_count": 129,
     "metadata": {},
     "output_type": "execute_result"
    },
    {
     "data": {
      "image/png": "[encoded data removed]",
      "text/plain": [
       "<Figure size 432x288 with 1 Axes>"
      ]
     },
     "metadata": {
      "needs_background": "light"
     },
     "output_type": "display_data"
    }
   ],
   "source": [
    "sns.boxplot(x=.price_float)"
   ]
  },
  {
   "cell_type": "code",
   "execution_count": null,
   "metadata": {},
   "outputs": [],
   "source": []
  }
 ],
 "metadata": {
  "kernelspec": {
   "display_name": "Python 3",
   "language": "python",
   "name": "python3"
  },
  "language_info": {
   "codemirror_mode": {
    "name": "ipython",
    "version": 3
   },
   "file_extension": ".py",
   "mimetype": "text/x-python",
   "name": "python",
   "nbconvert_exporter": "python",
   "pygments_lexer": "ipython3",
   "version": "3.7.1"
  }
 },
 "nbformat": 4,
 "nbformat_minor": 2
}

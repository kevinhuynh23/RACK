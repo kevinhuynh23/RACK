{
 "cells": [
  {
   "cell_type": "code",
   "execution_count": 1,
   "metadata": {},
   "outputs": [],
   "source": [
    "import pandas as pd\n",
    "import numpy as np\n",
    "import statsmodels.formula.api as smf\n",
    "\n",
    "from sklearn.model_selection import train_test_split\n",
    "from sklearn.model_selection import GridSearchCV\n",
    "from sklearn.feature_selection import RFE"
   ]
  },
  {
   "cell_type": "code",
   "execution_count": 2,
   "metadata": {},
   "outputs": [],
   "source": [
    "listing = pd.read_csv('data/prepped/lis_out.csv')"
   ]
  },
  {
   "cell_type": "code",
   "execution_count": 3,
   "metadata": {},
   "outputs": [
    {
     "data": {
      "text/html": [
       "<div>\n",
       "<style scoped>\n",
       "    .dataframe tbody tr th:only-of-type {\n",
       "        vertical-align: middle;\n",
       "    }\n",
       "\n",
       "    .dataframe tbody tr th {\n",
       "        vertical-align: top;\n",
       "    }\n",
       "\n",
       "    .dataframe thead th {\n",
       "        text-align: right;\n",
       "    }\n",
       "</style>\n",
       "<table border=\"1\" class=\"dataframe\">\n",
       "  <thead>\n",
       "    <tr style=\"text-align: right;\">\n",
       "      <th></th>\n",
       "      <th>id</th>\n",
       "      <th>name</th>\n",
       "      <th>summary</th>\n",
       "      <th>space</th>\n",
       "      <th>description</th>\n",
       "      <th>neighborhood_overview</th>\n",
       "      <th>notes</th>\n",
       "      <th>transit</th>\n",
       "      <th>host_about</th>\n",
       "      <th>host_listings_count</th>\n",
       "      <th>...</th>\n",
       "      <th>weekly_price_float</th>\n",
       "      <th>monthly_price_float</th>\n",
       "      <th>host_is_super_host</th>\n",
       "      <th>host_response_rate_float</th>\n",
       "      <th>review_true_score</th>\n",
       "      <th>cancel_policy_code</th>\n",
       "      <th>property_code</th>\n",
       "      <th>neighbourhood_code</th>\n",
       "      <th>room_code</th>\n",
       "      <th>zipcode_code</th>\n",
       "    </tr>\n",
       "  </thead>\n",
       "  <tbody>\n",
       "    <tr>\n",
       "      <th>0</th>\n",
       "      <td>0.0</td>\n",
       "      <td>0.0</td>\n",
       "      <td>0.0</td>\n",
       "      <td>0.0</td>\n",
       "      <td>0.0</td>\n",
       "      <td>0.0</td>\n",
       "      <td>0.0</td>\n",
       "      <td>0.0</td>\n",
       "      <td>0.0</td>\n",
       "      <td>0.0</td>\n",
       "      <td>...</td>\n",
       "      <td>0.0</td>\n",
       "      <td>0.00</td>\n",
       "      <td>0.0</td>\n",
       "      <td>0.0</td>\n",
       "      <td>0.0000</td>\n",
       "      <td>0</td>\n",
       "      <td>0</td>\n",
       "      <td>0</td>\n",
       "      <td>0</td>\n",
       "      <td>0</td>\n",
       "    </tr>\n",
       "    <tr>\n",
       "      <th>1</th>\n",
       "      <td>5956968.0</td>\n",
       "      <td>6.0</td>\n",
       "      <td>44.0</td>\n",
       "      <td>83.0</td>\n",
       "      <td>189.0</td>\n",
       "      <td>22.0</td>\n",
       "      <td>14.0</td>\n",
       "      <td>19.0</td>\n",
       "      <td>40.0</td>\n",
       "      <td>1.0</td>\n",
       "      <td>...</td>\n",
       "      <td>800.0</td>\n",
       "      <td>3476.00</td>\n",
       "      <td>0.0</td>\n",
       "      <td>0.0</td>\n",
       "      <td>2.3275</td>\n",
       "      <td>2</td>\n",
       "      <td>10</td>\n",
       "      <td>13</td>\n",
       "      <td>2</td>\n",
       "      <td>15</td>\n",
       "    </tr>\n",
       "    <tr>\n",
       "      <th>2</th>\n",
       "      <td>1909058.0</td>\n",
       "      <td>6.0</td>\n",
       "      <td>39.0</td>\n",
       "      <td>175.0</td>\n",
       "      <td>172.0</td>\n",
       "      <td>15.0</td>\n",
       "      <td>15.0</td>\n",
       "      <td>90.0</td>\n",
       "      <td>42.0</td>\n",
       "      <td>1.0</td>\n",
       "      <td>...</td>\n",
       "      <td>575.0</td>\n",
       "      <td>2498.38</td>\n",
       "      <td>1.0</td>\n",
       "      <td>1.0</td>\n",
       "      <td>2.4354</td>\n",
       "      <td>1</td>\n",
       "      <td>10</td>\n",
       "      <td>13</td>\n",
       "      <td>2</td>\n",
       "      <td>15</td>\n",
       "    </tr>\n",
       "    <tr>\n",
       "      <th>3</th>\n",
       "      <td>4948745.0</td>\n",
       "      <td>6.0</td>\n",
       "      <td>32.0</td>\n",
       "      <td>23.0</td>\n",
       "      <td>167.0</td>\n",
       "      <td>81.0</td>\n",
       "      <td>0.0</td>\n",
       "      <td>42.0</td>\n",
       "      <td>44.0</td>\n",
       "      <td>1.0</td>\n",
       "      <td>...</td>\n",
       "      <td>500.0</td>\n",
       "      <td>1700.00</td>\n",
       "      <td>0.0</td>\n",
       "      <td>0.0</td>\n",
       "      <td>1.1834</td>\n",
       "      <td>2</td>\n",
       "      <td>1</td>\n",
       "      <td>13</td>\n",
       "      <td>2</td>\n",
       "      <td>9</td>\n",
       "    </tr>\n",
       "    <tr>\n",
       "      <th>4</th>\n",
       "      <td>4454295.0</td>\n",
       "      <td>5.0</td>\n",
       "      <td>37.0</td>\n",
       "      <td>29.0</td>\n",
       "      <td>110.0</td>\n",
       "      <td>16.0</td>\n",
       "      <td>0.0</td>\n",
       "      <td>7.0</td>\n",
       "      <td>45.0</td>\n",
       "      <td>1.0</td>\n",
       "      <td>...</td>\n",
       "      <td>800.0</td>\n",
       "      <td>2000.00</td>\n",
       "      <td>0.0</td>\n",
       "      <td>1.0</td>\n",
       "      <td>0.9506</td>\n",
       "      <td>2</td>\n",
       "      <td>10</td>\n",
       "      <td>13</td>\n",
       "      <td>1</td>\n",
       "      <td>15</td>\n",
       "    </tr>\n",
       "  </tbody>\n",
       "</table>\n",
       "<p>5 rows × 45 columns</p>\n",
       "</div>"
      ],
      "text/plain": [
       "          id  name  summary  space  description  neighborhood_overview  notes  \\\n",
       "0        0.0   0.0      0.0    0.0          0.0                    0.0    0.0   \n",
       "1  5956968.0   6.0     44.0   83.0        189.0                   22.0   14.0   \n",
       "2  1909058.0   6.0     39.0  175.0        172.0                   15.0   15.0   \n",
       "3  4948745.0   6.0     32.0   23.0        167.0                   81.0    0.0   \n",
       "4  4454295.0   5.0     37.0   29.0        110.0                   16.0    0.0   \n",
       "\n",
       "   transit  host_about  host_listings_count      ...       weekly_price_float  \\\n",
       "0      0.0         0.0                  0.0      ...                      0.0   \n",
       "1     19.0        40.0                  1.0      ...                    800.0   \n",
       "2     90.0        42.0                  1.0      ...                    575.0   \n",
       "3     42.0        44.0                  1.0      ...                    500.0   \n",
       "4      7.0        45.0                  1.0      ...                    800.0   \n",
       "\n",
       "   monthly_price_float  host_is_super_host  host_response_rate_float  \\\n",
       "0                 0.00                 0.0                       0.0   \n",
       "1              3476.00                 0.0                       0.0   \n",
       "2              2498.38                 1.0                       1.0   \n",
       "3              1700.00                 0.0                       0.0   \n",
       "4              2000.00                 0.0                       1.0   \n",
       "\n",
       "   review_true_score  cancel_policy_code  property_code  neighbourhood_code  \\\n",
       "0             0.0000                   0              0                   0   \n",
       "1             2.3275                   2             10                  13   \n",
       "2             2.4354                   1             10                  13   \n",
       "3             1.1834                   2              1                  13   \n",
       "4             0.9506                   2             10                  13   \n",
       "\n",
       "   room_code  zipcode_code  \n",
       "0          0             0  \n",
       "1          2            15  \n",
       "2          2            15  \n",
       "3          2             9  \n",
       "4          1            15  \n",
       "\n",
       "[5 rows x 45 columns]"
      ]
     },
     "execution_count": 3,
     "metadata": {},
     "output_type": "execute_result"
    }
   ],
   "source": [
    "listing.head()"
   ]
  },
  {
   "cell_type": "code",
   "execution_count": 4,
   "metadata": {},
   "outputs": [],
   "source": [
    "def forward_selected(data, response):\n",
    "    \"\"\"Linear model designed by forward selection.\n",
    "\n",
    "    Parameters:\n",
    "    -----------\n",
    "    data : pandas DataFrame with all possible predictors and response\n",
    "\n",
    "    response: string, name of response column in data\n",
    "\n",
    "    Returns:\n",
    "    --------\n",
    "    model: an \"optimal\" fitted statsmodels linear model\n",
    "           with an intercept\n",
    "           selected by forward selection\n",
    "           evaluated by adjusted R-squared\n",
    "    \"\"\"\n",
    "    remaining = set(data.columns)\n",
    "    remaining.remove(response)\n",
    "    selected = []\n",
    "    current_score, best_new_score = 0.0, 0.0\n",
    "    while remaining and current_score == best_new_score:\n",
    "        scores_with_candidates = []\n",
    "        for candidate in remaining:\n",
    "            formula = \"{} ~ {} + 1\".format(response,\n",
    "                                           ' + '.join(selected + [candidate]))\n",
    "            score = smf.ols(formula, data).fit().rsquared_adj\n",
    "            scores_with_candidates.append((score, candidate))\n",
    "        scores_with_candidates.sort()\n",
    "        best_new_score, best_candidate = scores_with_candidates.pop()\n",
    "        if current_score < best_new_score:\n",
    "            remaining.remove(best_candidate)\n",
    "            selected.append(best_candidate)\n",
    "            current_score = best_new_score\n",
    "    formula = \"{} ~ {} + 1\".format(response,\n",
    "                                   ' + '.join(selected))\n",
    "    model = smf.ols(formula, data).fit()\n",
    "    return model"
   ]
  },
  {
   "cell_type": "code",
   "execution_count": 5,
   "metadata": {},
   "outputs": [
    {
     "data": {
      "text/plain": [
       "longitude                        -0.678055\n",
       "number_of_reviews                 0.178263\n",
       "host_is_super_host                0.186259\n",
       "notes                             0.199600\n",
       "reviews_per_month                 0.213616\n",
       "review_true_score                 0.214950\n",
       "transit                           0.231930\n",
       "calculated_host_listings_count    0.247494\n",
       "host_about                        0.255858\n",
       "ep                                0.277775\n",
       "room_code                         0.278710\n",
       "host_listings_count               0.281353\n",
       "host_total_listings_count         0.281353\n",
       "property_code                     0.286034\n",
       "neighborhood_overview             0.290341\n",
       "zipcode_code                      0.362277\n",
       "maximum_nights                    0.366256\n",
       "minimum_nights                    0.369200\n",
       "id                                0.400913\n",
       "neighbourhood_code                0.409354\n",
       "sd                                0.415777\n",
       "space                             0.426187\n",
       "host_response_rate_float          0.468423\n",
       "summary                           0.509653\n",
       "cancel_policy_code                0.513005\n",
       "guests_included                   0.577498\n",
       "description                       0.584462\n",
       "name                              0.585759\n",
       "amenities_count                   0.637122\n",
       "cf                                0.645891\n",
       "review_scores_value               0.658275\n",
       "review_scores_cleanliness         0.669042\n",
       "review_scores_accuracy            0.669640\n",
       "review_scores_checkin             0.670939\n",
       "review_scores_communication       0.674711\n",
       "review_scores_rating              0.676062\n",
       "latitude                          0.677970\n",
       "review_scores_location            0.681528\n",
       "bathrooms                         0.705265\n",
       "bedrooms                          0.713529\n",
       "beds                              0.724176\n",
       "accommodates                      0.776216\n",
       "monthly_price_float               0.932680\n",
       "weekly_price_float                0.970452\n",
       "price_float                       1.000000\n",
       "Name: price_float, dtype: float64"
      ]
     },
     "execution_count": 5,
     "metadata": {},
     "output_type": "execute_result"
    }
   ],
   "source": [
    "listing.corr().price_float.sort_values()"
   ]
  },
  {
   "cell_type": "code",
   "execution_count": 8,
   "metadata": {},
   "outputs": [
    {
     "data": {
      "image/png": "[encoded data removed]",
      "text/plain": [
       "<Figure size 792x648 with 2 Axes>"
      ]
     },
     "metadata": {
      "needs_background": "light"
     },
     "output_type": "display_data"
    }
   ],
   "source": [
    "import seaborn as sns\n",
    "import matplotlib.pyplot as plt\n",
    "\n",
    "mask = np.zeros_like(listing.corr(), dtype=np.bool)\n",
    "mask[np.triu_indices_from(mask)] = True\n",
    "\n",
    "f, ax = plt.subplots(figsize=(11, 9))\n",
    "\n",
    "cmap = sns.diverging_palette(220, 10, as_cmap=True)\n",
    "\n",
    "sns.heatmap(listing.corr(), mask=mask, cmap=cmap, vmax=1.0, center=0, square=True, linewidths=.5, cbar_kws={\"shrink\":.5})\n",
    "\n",
    "plt.show()"
   ]
  },
  {
   "cell_type": "code",
   "execution_count": 7,
   "metadata": {},
   "outputs": [],
   "source": [
    "result = listing.drop(['id',\n",
    "                       'weekly_price_float',\n",
    "                       'monthly_price_float'], axis=1)"
   ]
  },
  {
   "cell_type": "code",
   "execution_count": null,
   "metadata": {},
   "outputs": [],
   "source": [
    "mod = forward_selected(result, 'price_float')"
   ]
  },
  {
   "cell_type": "code",
   "execution_count": 38,
   "metadata": {},
   "outputs": [],
   "source": [
    "train_features, test_features, train_outcome, test_outcome = train_test_split(\n",
    "    result.drop('price_float', axis=1),\n",
    "    result.price_float,\n",
    "    test_size=0.30,\n",
    "    random_state=15\n",
    ")"
   ]
  },
  {
   "cell_type": "code",
   "execution_count": 39,
   "metadata": {},
   "outputs": [],
   "source": [
    "from sklearn.svm import SVR\n",
    "\n",
    "estimator = SVR(kernel='linear')\n",
    "selector = RFE(estimator, 5, step=1)"
   ]
  },
  {
   "cell_type": "code",
   "execution_count": null,
   "metadata": {},
   "outputs": [],
   "source": [
    "mod.summary()"
   ]
  },
  {
   "cell_type": "code",
   "execution_count": null,
   "metadata": {},
   "outputs": [],
   "source": [
    "selector = selector.fit(train_features, train_outcome)"
   ]
  },
  {
   "cell_type": "code",
   "execution_count": null,
   "metadata": {},
   "outputs": [],
   "source": [
    "selector.score(test_features, test_outcome)"
   ]
  },
  {
   "cell_type": "code",
   "execution_count": null,
   "metadata": {},
   "outputs": [],
   "source": [
    "plt.scatter(test_outcome, selector.predict(test_features))"
   ]
  },
  {
   "cell_type": "code",
   "execution_count": null,
   "metadata": {},
   "outputs": [],
   "source": [
    "from sklearn.neighbors import KNeighborsRegressor    # KNN regressor\n",
    "from sklearn.preprocessing import MinMaxScaler      # scaling data\n",
    "from sklearn.pipeline import make_pipeline \n",
    "\n",
    "#Regression Model\n",
    "knn_reg = KNeighbors Regressor()\n",
    "\n",
    "# Define a pipeline that uses your scaler and classifier\n",
    "pipe_knn = make_pipeline(knn_reg)\n",
    "\n",
    "# Define a grid to search through\n",
    "param_grid_knn = {'kneighborsregressor__n_neighbors':range(1, 20), \n",
    "                  'kneighborsregressor__weights':[\"uniform\", \"distance\"],\n",
    "                  'kneighborsregressor__algorithm':['auto', 'ball_tree', 'kd_tree']}\n",
    "\n",
    "# Perform a  grid search of your pipeline\n",
    "grid_knn = GridSearchCV(pipe_knn, param_grid_knn, scoring=\"neg_mean_absolute_error\")"
   ]
  },
  {
   "cell_type": "code",
   "execution_count": null,
   "metadata": {},
   "outputs": [],
   "source": [
    "grid_knn.fit(train_features, train_outcome)"
   ]
  },
  {
   "cell_type": "code",
   "execution_count": null,
   "metadata": {},
   "outputs": [],
   "source": [
    "grid_knn.score(test_features, test_outcome)"
   ]
  },
  {
   "cell_type": "code",
   "execution_count": null,
   "metadata": {},
   "outputs": [],
   "source": [
    "grid_knn.best_params_"
   ]
  },
  {
   "cell_type": "code",
   "execution_count": null,
   "metadata": {},
   "outputs": [],
   "source": [
    "plt.scatter(test_outcome, grid_knn.predict(test_features))"
   ]
  },
  {
   "cell_type": "code",
   "execution_count": null,
   "metadata": {},
   "outputs": [],
   "source": [
    "sns.boxplot(x=result_NAN.total_bookings)"
   ]
  },
  {
   "cell_type": "code",
   "execution_count": null,
   "metadata": {},
   "outputs": [],
   "source": [
    "sns.boxplot(x=result_NAN.price_int)"
   ]
  },
  {
   "cell_type": "code",
   "execution_count": null,
   "metadata": {},
   "outputs": [],
   "source": [
    "from scipy import stats\n",
    "\n",
    "new_result = result_NAN.drop(['latitude', 'longitude'], axis=1)\n",
    "\n",
    "z = np.abs(stats.zscore(new_result))\n",
    "\n",
    "result_out = new_result[(z < 3).all(axis=1)]\n",
    "\n",
    "result_out = result_out.dropna()\n",
    "\n",
    "result_out"
   ]
  },
  {
   "cell_type": "code",
   "execution_count": null,
   "metadata": {},
   "outputs": [],
   "source": [
    "#result_out[result_out.isnull().any(axis=1)]"
   ]
  },
  {
   "cell_type": "code",
   "execution_count": null,
   "metadata": {},
   "outputs": [],
   "source": [
    "#mod2 = forward_selected(result_out, 'total_bookings')"
   ]
  },
  {
   "cell_type": "code",
   "execution_count": null,
   "metadata": {},
   "outputs": [],
   "source": [
    "#mod2.summary()"
   ]
  },
  {
   "cell_type": "code",
   "execution_count": null,
   "metadata": {},
   "outputs": [],
   "source": [
    "result_out.corr().total_bookings"
   ]
  },
  {
   "cell_type": "code",
   "execution_count": null,
   "metadata": {},
   "outputs": [],
   "source": []
  }
 ],
 "metadata": {
  "kernelspec": {
   "display_name": "Python 3",
   "language": "python",
   "name": "python3"
  },
  "language_info": {
   "codemirror_mode": {
    "name": "ipython",
    "version": 3
   },
   "file_extension": ".py",
   "mimetype": "text/x-python",
   "name": "python",
   "nbconvert_exporter": "python",
   "pygments_lexer": "ipython3",
   "version": "3.7.1"
  }
 },
 "nbformat": 4,
 "nbformat_minor": 2
}
